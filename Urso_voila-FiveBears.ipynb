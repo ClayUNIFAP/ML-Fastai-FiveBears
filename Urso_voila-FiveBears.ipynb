{
 "cells": [
  {
   "cell_type": "code",
   "execution_count": 1,
   "metadata": {},
   "outputs": [],
   "source": [
    "#hide\n",
    "# !pip install -Uqq fastbook\n",
    "import fastbook\n",
    "fastbook.setup_book()"
   ]
  },
  {
   "cell_type": "code",
   "execution_count": 2,
   "metadata": {},
   "outputs": [],
   "source": [
    "#hide\n",
    "from fastbook import *\n",
    "from fastai.vision.widgets import *"
   ]
  },
  {
   "cell_type": "code",
   "execution_count": null,
   "metadata": {},
   "outputs": [],
   "source": [
    "#!pip install voila\n",
    "#!jupyter serverextension enable --sys-prefix voila "
   ]
  },
  {
   "cell_type": "markdown",
   "metadata": {},
   "source": [
    "## Nosso primeiro classificador de Ursos (em breve serão os peixes) =)"
   ]
  },
  {
   "cell_type": "markdown",
   "metadata": {},
   "source": [
    "Nesse primeiro teste de Machine Learning, conseguimos realizar um classificador de ursos (pretos, marrons e os de pelúcia). Essa versão atualizada em (17/03/2021) inclui a predição para mais dois tipos de ursos (Panda e Polar). Usando um modelo de Resnet18*(RestNet34 na versão atual), nossa máquina de detecção funciona agora com as cinco categorias de ursos. \n",
    "Em breve, nossos ursos serão a inspiração para realizar um outro desafio, a identificação dos melhores peixes da Região Norte (de acordo com gosto do Professor Clay =)).\n",
    "\n",
    "##English\n",
    "In this first test of Machine Learning, we managed to perform a bear classifier (black, brown and teddy). This updated version in (Mars 17th 2021), includes the prediction for two more kinds of bears (Panda and Polar). Using a model of Resnet18* (New version whitin RestNet34) for now, our detection machine works only with five categories of bears.\n",
    "Soon, our bears will be the inspiration to carry out another challenge, the identification of the best fish in the North Region (according to Professor Clay's taste =)).\n",
    "\n",
    "##Français\n",
    "Dans ce premier test de Machine Learning, nous avons réussi à effectuer un classificateur d'ours (noir, marron et nounours). Cette version mise à jour récément en (17 Mars 2021), ajoute la détection pour deux autres types d'ours (le Panda et le Polar). En utilisant un modèle de Resnet18* (ResNet34 maintenant), pour l'instant, notre machine de détection ne fonctionne qu'avec ces cinque catégories d'ours.\n",
    "Bientôt, nos ours seront l'inspiration pour relever un autre défi, l'identification des meilleurs poissons de la région Nord (selon le goût du professeur Clay =))."
   ]
  },
  {
   "cell_type": "code",
   "execution_count": 3,
   "metadata": {
    "scrolled": true
   },
   "outputs": [],
   "source": [
    "path = Path()\n",
    "learn_inf = load_learner(path/'CincoUrsos.pkl', cpu=True)\n",
    "btn_upload = widgets.FileUpload()\n",
    "out_pl = widgets.Output()\n",
    "lbl_pred = widgets.Label()"
   ]
  },
  {
   "cell_type": "code",
   "execution_count": 9,
   "metadata": {},
   "outputs": [],
   "source": [
    "# test def on_click_classify(change):\n",
    "def on_click(change):\n",
    "    img = PILImage.create(btn_upload.data[-1])\n",
    "    out_pl.clear_output()\n",
    "    with out_pl: display(img.to_thumb(128,128))\n",
    "    pred,pred_idx,probs = learn_inf.predict(img)\n",
    "    lbl_pred.value = f'Prediction: {pred}; Probability: {probs[pred_idx]:.04f}'\n",
    "\n",
    "#btn_run.on_click(on_click_classify)"
   ]
  },
  {
   "cell_type": "code",
   "execution_count": 6,
   "metadata": {},
   "outputs": [],
   "source": [
    "#hide\n",
    "#Putting back btn_upload to a widget for next cell\n",
    "# test btn_upload = widgets.FileUpload()"
   ]
  },
  {
   "cell_type": "code",
   "execution_count": 10,
   "metadata": {},
   "outputs": [],
   "source": [
    "btn_upload.observe(on_click, names=['data'])"
   ]
  },
  {
   "cell_type": "code",
   "execution_count": 12,
   "metadata": {},
   "outputs": [
    {
     "data": {
      "application/vnd.jupyter.widget-view+json": {
       "model_id": "e2f472f7ea704738943ff8072f0abcec",
       "version_major": 2,
       "version_minor": 0
      },
      "text/plain": [
       "VBox(children=(Label(value='Selecione seu urso!'), FileUpload(value={'image6.jpg': {'metadata': {'name': 'imag…"
      ]
     },
     "metadata": {},
     "output_type": "display_data"
    }
   ],
   "source": [
    "#hide_output\n",
    "display(VBox([widgets.Label('Selecione seu urso!'), \n",
    "      btn_upload, out_pl, lbl_pred]))\n",
    "#but_run"
   ]
  }
 ],
 "metadata": {
  "celltoolbar": "Pièces jointes",
  "jupytext": {
   "split_at_heading": true
  },
  "kernelspec": {
   "display_name": "Python 3",
   "language": "python",
   "name": "python3"
  },
  "language_info": {
   "codemirror_mode": {
    "name": "ipython",
    "version": 3
   },
   "file_extension": ".py",
   "mimetype": "text/x-python",
   "name": "python",
   "nbconvert_exporter": "python",
   "pygments_lexer": "ipython3",
   "version": "3.8.6"
  }
 },
 "nbformat": 4,
 "nbformat_minor": 4
}
